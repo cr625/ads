{
 "cells": [
  {
   "cell_type": "code",
   "execution_count": 2,
   "metadata": {},
   "outputs": [],
   "source": [
    "from to_pandas import process_files\n",
    "\n",
    "warcs = process_files('crawl-data/11425')"
   ]
  },
  {
   "cell_type": "code",
   "execution_count": null,
   "metadata": {},
   "outputs": [],
   "source": [
    "warcs.head()"
   ]
  },
  {
   "cell_type": "code",
   "execution_count": null,
   "metadata": {},
   "outputs": [],
   "source": [
    "response = warcs[warcs.type == 'response']\n",
    "print(response.shape)"
   ]
  },
  {
   "cell_type": "code",
   "execution_count": null,
   "metadata": {},
   "outputs": [],
   "source": [
    "warcs.content_type.value_counts()"
   ]
  },
  {
   "cell_type": "code",
   "execution_count": null,
   "metadata": {},
   "outputs": [],
   "source": [
    "warcs.content_type.value_counts().plot(kind='bar')"
   ]
  },
  {
   "cell_type": "code",
   "execution_count": null,
   "metadata": {},
   "outputs": [],
   "source": [
    "print(warcs.size)\n",
    "print(warcs.shape)\n",
    "print(warcs.columns)\n",
    "print(warcs.dtypes)\n",
    "warcs.memory_usage()\n",
    "warcs['length'].describe()"
   ]
  },
  {
   "cell_type": "code",
   "execution_count": 19,
   "metadata": {},
   "outputs": [
    {
     "data": {
      "text/plain": [
       "http_headers\n",
       "POST /report/1 HTTP/1.1\\r\\nHost: start.specless.tech\\r\\nContent-Length: 248\\r\\nOrigin: https://gizmodo.com\\r\\nAccept-Encoding: gzip\\r\\nUser-Agent: Mozilla/5.0 (X11; Linux x86_64; rv:10.0; archive.org_bot; Archive-It; +http://archive-it.org/files/site-owners.html) Gecko/20150101 Firefox/47.0 (Chrome)\\r\\nContent-Type: text/plain;charset=UTF-8\\r\\nAccept: */*\\r\\nReferer: https://gizmodo.com/when-the-internet-archive-forgets-1830462131\\r\\nAccept-Language: en-US,en;q=0.9\\r\\nCookie: __cfduid=dc14dbb391c748246a7794b55ddbf77581543441722\\r\\nVia: 1.1 warcprox\\r\\n                                                                                                                                                                                                                                                                                                                                                                                                                                                                                                                                                                                                                                                                                                                                                                                                                                                                                                                                                                                                                                                                                        167\n",
       "GET /aolvidibleapi29384728347/moatapi.js HTTP/1.1\\r\\nHost: z.moatads.com\\r\\nAccept-Encoding: gzip\\r\\nUser-Agent: Mozilla/5.0 (X11; Linux x86_64; rv:10.0; archive.org_bot; Archive-It; +http://archive-it.org/files/site-owners.html) Gecko/20150101 Firefox/47.0 (Chrome)\\r\\nAccept: */*\\r\\nReferer: https://www.infoworld.com/article/3318978/azure/a-decade-of-azure-its-time-to-go-back-to-the-future.html\\r\\nAccept-Language: en-US,en;q=0.9\\r\\nVia: 1.1 warcprox\\r\\n                                                                                                                                                                                                                                                                                                                                                                                                                                                                                                                                                                                                                                                                                                                                                                                                                                                                                                                                                                                                                                                                                                                                                                                             87\n",
       "GET /prod/player/js/19.0.75/html5/player-hls-latest-min.js HTTP/1.1\\r\\nHost: cdn-ssl.vidible.tv\\r\\nAccept-Encoding: gzip\\r\\nUser-Agent: Mozilla/5.0 (X11; Linux x86_64; rv:10.0; archive.org_bot; Archive-It; +http://archive-it.org/files/site-owners.html) Gecko/20150101 Firefox/47.0 (Chrome)\\r\\nAccept: */*\\r\\nReferer: https://www.infoworld.com/article/3318978/azure/a-decade-of-azure-its-time-to-go-back-to-the-future.html\\r\\nAccept-Language: en-US,en;q=0.9\\r\\nVia: 1.1 warcprox\\r\\n                                                                                                                                                                                                                                                                                                                                                                                                                                                                                                                                                                                                                                                                                                                                                                                                                                                                                                                                                                                                                                                                                                                                                                      87\n",
       "GET /prod/player/js/19.0.75/vidible-min.js?embedtag=1 HTTP/1.1\\r\\nHost: cdn-ssl.vidible.tv\\r\\nOrigin: https://www.infoworld.com\\r\\nAccept-Encoding: gzip\\r\\nUser-Agent: Mozilla/5.0 (X11; Linux x86_64; rv:10.0; archive.org_bot; Archive-It; +http://archive-it.org/files/site-owners.html) Gecko/20150101 Firefox/47.0 (Chrome)\\r\\nAccept: */*\\r\\nReferer: https://www.infoworld.com/article/3318978/azure/a-decade-of-azure-its-time-to-go-back-to-the-future.html\\r\\nAccept-Language: en-US,en;q=0.9\\r\\nVia: 1.1 warcprox\\r\\n                                                                                                                                                                                                                                                                                                                                                                                                                                                                                                                                                                                                                                                                                                                                                                                                                                                                                                                                                                                                                                                                                                                                      87\n",
       "GET /ad/ads/advertisers/advertisers.txt HTTP/1.1\\r\\nHost: video.adaptv.advertising.com\\r\\nAccept: text/javascript, application/json, text/html, application/xml, text/xml, */*\\r\\nAccept-Encoding: gzip\\r\\nUser-Agent: Mozilla/5.0 (X11; Linux x86_64; rv:10.0; archive.org_bot; Archive-It; +http://archive-it.org/files/site-owners.html) Gecko/20150101 Firefox/47.0 (Chrome)\\r\\nContent-Type: application/x-www-form-urlencoded\\r\\nReferer: https://www.infoworld.com/article/3318978/azure/a-decade-of-azure-its-time-to-go-back-to-the-future.html\\r\\nAccept-Language: en-US,en;q=0.9\\r\\nCookie: APID=UPf89c9bde-ec28-11e8-8dd0-0295569a8d04; IDSYNC=18vs~1hbu; USID=dc35e802-1155-4fcd-88ad-dd5404c6fa64; adaptv_unique_user_cookie=\"141309982484971454__TIME__2018-11-19+10%3A29%3A09\"; ctsSegments=\"199419,787029\"\\r\\nVia: 1.1 warcprox\\r\\n                                                                                                                                                                                                                                                                                                                                                                                                                                                                                                                                                                                                                                                                                                                                                                                                                   80\n",
       "                                                                                                                                                                                                                                                                                                                                                                                                                                                                                                                                                                                                                                                                                                                                                                                                                                                                                                                                                                                                                                                                                                                                                                                                                                                                                                                                                                                                                                                                                                                                                                                                                                                                     ... \n",
       "HTTP/1.0 200 OK\\r\\ncache-control: no-cache, no-store, must-revalidate, pre-check=0, post-check=0\\r\\ncontent-length: 318218\\r\\ncontent-type: text/html;charset=utf-8\\r\\ndate: Mon, 19 Nov 2018 17:33:26 GMT\\r\\nexpires: Tue, 31 Mar 1981 05:00:00 GMT\\r\\nlast-modified: Mon, 19 Nov 2018 17:33:26 GMT\\r\\npragma: no-cache\\r\\nserver: tsa_a\\r\\nset-cookie: fm=0; Expires=Mon, 19 Nov 2018 17:33:17 GMT; Path=/; Domain=.twitter.com; Secure; HTTPOnly\\r\\nset-cookie: _twitter_sess=BAh7CSIKZmxhc2hJQzonQWN0aW9uQ29udHJvbGxlcjo6Rmxhc2g6OkZsYXNo%250ASGFzaHsABjoKQHVzZWR7ADoPY3JlYXRlZF9hdGwrCFG9CC1nAToMY3NyZl9p%250AZCIlYjgwNTc1OWI0ZWUxMmY1ZmUzMjZmMzg1OGQ5M2Y3YzM6B2lkIiVkZTI5%250AMWVjNTVhMGU4MTdjODA5YmM0NmU0MmYxMWZmYg%253D%253D--0e64a022a35333b72c641fbd6a71033e0bd4ea81; Path=/; Domain=.twitter.com; Secure; HTTPOnly\\r\\nset-cookie: personalization_id=\"v1_oQ3LfgORWQ/khlZX1pFwkA==\"; Expires=Wed, 18 Nov 2020 17:33:26 GMT; Path=/; Domain=.twitter.com\\r\\nset-cookie: lang=uk; Path=/\\r\\nset-cookie: guest_id=v1%3A154264880673599685; Expires=Wed, 18 Nov 2020 17:33:26 GMT; Path=/; Domain=.twitter.com\\r\\nset-cookie: ct0=d7fecb08d7dd65bc32c15c10c174671c; Expires=Mon, 19 Nov 2018 23:33:26 GMT; Path=/; Domain=.twitter.com; Secure\\r\\nstatus: 200 OK\\r\\nstrict-transport-security: max-age=631138519\\r\\nx-connection-hash: 07c5689dd7420ee59bddcddadcdbf0bf\\r\\nx-content-type-options: nosniff\\r\\nx-frame-options: \\r\\nx-response-time: 100\\r\\nx-transaction: 000fc32f007e5354\\r\\nx-twitter-response-tags: BouncerCompliant\\r\\nx-ua-compatible: IE=edge,chrome=1\\r\\nx-xss-protection: 1; mode=block; report=https://twitter.com/i/xss_report\\r\\n      1\n",
       "GET /brievictoria8/status/1056283264036560896?lang=th HTTP/1.0\\r\\nConnection: Close\\r\\nReferer: https://twitter.com/brievictoria8/status/1056283264036560896\\r\\nAccept: text/html,application/xhtml+xml,application/xml;q=0.9,*/*;q=0.8\\r\\nAccept-Language: en-US,en;q=0.8\\r\\nHost: twitter.com\\r\\nUser-Agent: Mozilla/5.0 (compatible; archive.org_bot; Archive-It; +http://archive-it.org/files/site-owners.html)\\r\\n                                                                                                                                                                                                                                                                                                                                                                                                                                                                                                                                                                                                                                                                                                                                                                                                                                                                                                                                                                                                                                                                                                                                                                                                                                                 1\n",
       "HTTP/1.0 200 OK\\r\\ncache-control: no-cache, no-store, must-revalidate, pre-check=0, post-check=0\\r\\ncontent-length: 321219\\r\\ncontent-type: text/html;charset=utf-8\\r\\ndate: Mon, 19 Nov 2018 17:33:24 GMT\\r\\nexpires: Tue, 31 Mar 1981 05:00:00 GMT\\r\\nlast-modified: Mon, 19 Nov 2018 17:33:24 GMT\\r\\npragma: no-cache\\r\\nserver: tsa_a\\r\\nset-cookie: fm=0; Expires=Mon, 19 Nov 2018 17:33:15 GMT; Path=/; Domain=.twitter.com; Secure; HTTPOnly\\r\\nset-cookie: _twitter_sess=BAh7CSIKZmxhc2hJQzonQWN0aW9uQ29udHJvbGxlcjo6Rmxhc2g6OkZsYXNo%250ASGFzaHsABjoKQHVzZWR7ADoPY3JlYXRlZF9hdGwrCIe1CC1nAToMY3NyZl9p%250AZCIlOTY0NTg5ZGViMzdhNTg3OTU1MzE2ZDE1ZGUzODE2NWE6B2lkIiU4MDdk%250AOGU5N2U3N2E3Y2EyNzI5ZjdhNmVmZWZiNGRmNQ%253D%253D--55187f3bffae3e489cc222bdb084030f8e766495; Path=/; Domain=.twitter.com; Secure; HTTPOnly\\r\\nset-cookie: personalization_id=\"v1_+IrOFf7+K8agzyHF5dDj7Q==\"; Expires=Wed, 18 Nov 2020 17:33:24 GMT; Path=/; Domain=.twitter.com\\r\\nset-cookie: lang=th; Path=/\\r\\nset-cookie: guest_id=v1%3A154264880474019613; Expires=Wed, 18 Nov 2020 17:33:24 GMT; Path=/; Domain=.twitter.com\\r\\nset-cookie: ct0=a31fac1807366c49ec6ef51e790a9ff9; Expires=Mon, 19 Nov 2018 23:33:24 GMT; Path=/; Domain=.twitter.com; Secure\\r\\nstatus: 200 OK\\r\\nstrict-transport-security: max-age=631138519\\r\\nx-connection-hash: 2cded456238b31b55e4ace0f539ed324\\r\\nx-content-type-options: nosniff\\r\\nx-frame-options: \\r\\nx-response-time: 111\\r\\nx-transaction: 0014a018009abcd9\\r\\nx-twitter-response-tags: BouncerCompliant\\r\\nx-ua-compatible: IE=edge,chrome=1\\r\\nx-xss-protection: 1; mode=block; report=https://twitter.com/i/xss_report\\r\\n      1\n",
       "GET /brievictoria8/status/1056283264036560896?lang=ur HTTP/1.0\\r\\nConnection: Close\\r\\nReferer: https://twitter.com/brievictoria8/status/1056283264036560896\\r\\nAccept: text/html,application/xhtml+xml,application/xml;q=0.9,*/*;q=0.8\\r\\nAccept-Language: en-US,en;q=0.8\\r\\nHost: twitter.com\\r\\nUser-Agent: Mozilla/5.0 (compatible; archive.org_bot; Archive-It; +http://archive-it.org/files/site-owners.html)\\r\\n                                                                                                                                                                                                                                                                                                                                                                                                                                                                                                                                                                                                                                                                                                                                                                                                                                                                                                                                                                                                                                                                                                                                                                                                                                                 1\n",
       "GET /i.creativecommons.org/l/by/4.0/88x31.png?w=1100 HTTP/1.1\\r\\nHost: i0.wp.com\\r\\nAccept-Encoding: gzip\\r\\nUser-Agent: Mozilla/5.0 (X11; Linux x86_64; rv:10.0; archive.org_bot; Archive-It; +http://archive-it.org/files/site-owners.html) Gecko/20150101 Firefox/47.0 (Chrome)\\r\\nAccept: image/webp,image/apng,image/*,*/*;q=0.8\\r\\nReferer: https://fabiusmaximus.com/2018/11/27/metoo-scares-corporate-america/\\r\\nAccept-Language: en-US,en;q=0.9\\r\\nVia: 1.1 warcprox\\r\\n                                                                                                                                                                                                                                                                                                                                                                                                                                                                                                                                                                                                                                                                                                                                                                                                                                                                                                                                                                                                                                                                                                                                                                                      1\n",
       "Name: count, Length: 23817, dtype: int64"
      ]
     },
     "execution_count": 19,
     "metadata": {},
     "output_type": "execute_result"
    }
   ],
   "source": [
    "warcs.http_headers.value_counts()"
   ]
  }
 ],
 "metadata": {
  "kernelspec": {
   "display_name": "env",
   "language": "python",
   "name": "python3"
  },
  "language_info": {
   "codemirror_mode": {
    "name": "ipython",
    "version": 3
   },
   "file_extension": ".py",
   "mimetype": "text/x-python",
   "name": "python",
   "nbconvert_exporter": "python",
   "pygments_lexer": "ipython3",
   "version": "3.10.6"
  },
  "orig_nbformat": 4
 },
 "nbformat": 4,
 "nbformat_minor": 2
}
